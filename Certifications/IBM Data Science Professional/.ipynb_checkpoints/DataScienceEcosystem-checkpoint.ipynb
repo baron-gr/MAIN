{
 "cells": [
  {
   "cell_type": "markdown",
   "id": "14fffe0e",
   "metadata": {},
   "source": [
    "Exercise 2:\n",
    "\n",
    "# Data Science Tools and Ecosystem"
   ]
  },
  {
   "cell_type": "markdown",
   "id": "69d5f608",
   "metadata": {},
   "source": [
    "Exercise 3:\n",
    "\n",
    "In this notebook, Data Science Tools and Ecosystem are summarized."
   ]
  },
  {
   "cell_type": "markdown",
   "id": "f8b60413",
   "metadata": {},
   "source": [
    "Exercise 10 continued:\n",
    "\n",
    "**Objectives:**\n",
    "- List popular data science languages\n",
    "- List common data science libraries\n",
    "- Identify some popular data science environment tools\n",
    "- Show examples of evaluating arithmetic expressions in Python"
   ]
  },
  {
   "cell_type": "markdown",
   "id": "641d0950",
   "metadata": {},
   "source": [
    "Exercise 4:\n",
    "\n",
    "Some of the popular languages that Data Scientists use are:\n",
    "1. Python\n",
    "2. R\n",
    "3. SQL\n",
    "4. C (or any related version e.g. C++, C#)\n",
    "5. MATLAB\n",
    "6. Java"
   ]
  },
  {
   "cell_type": "markdown",
   "id": "0bd9378f",
   "metadata": {},
   "source": [
    "Exercise 5:\n",
    "\n",
    "Some of the commonly used libraries used by Data Scientists include:\n",
    "1. SciKit-learn\n",
    "2. TensorFlow\n",
    "3. Pytorch\n",
    "4. Keras\n",
    "5. Pandas\n",
    "6. SciPy\n",
    "7. NumPy\n",
    "8. Matplotlib"
   ]
  },
  {
   "cell_type": "markdown",
   "id": "8e9918f9",
   "metadata": {},
   "source": [
    "Exercise 6:\n",
    "\n",
    "| Data Science Tools |\n",
    "| ------------------ |\n",
    "|Visual Studio Code|\n",
    "|Jupyter Labs/Notebooks|\n",
    "|Anaconda|"
   ]
  },
  {
   "cell_type": "markdown",
   "id": "a8a0eb20",
   "metadata": {},
   "source": [
    "Exercise 7:\n",
    "\n",
    "### Below are a few examples of evaluating arithmetic expressions in Python"
   ]
  },
  {
   "cell_type": "code",
   "execution_count": 1,
   "id": "0b5f8fbc",
   "metadata": {},
   "outputs": [
    {
     "data": {
      "text/plain": [
       "4"
      ]
     },
     "execution_count": 1,
     "metadata": {},
     "output_type": "execute_result"
    }
   ],
   "source": [
    "2+2"
   ]
  },
  {
   "cell_type": "code",
   "execution_count": 2,
   "id": "e7254ec1",
   "metadata": {},
   "outputs": [
    {
     "data": {
      "text/plain": [
       "1.0"
      ]
     },
     "execution_count": 2,
     "metadata": {},
     "output_type": "execute_result"
    }
   ],
   "source": [
    "2/2"
   ]
  },
  {
   "cell_type": "code",
   "execution_count": 3,
   "id": "bd56917d",
   "metadata": {},
   "outputs": [
    {
     "data": {
      "text/plain": [
       "4"
      ]
     },
     "execution_count": 3,
     "metadata": {},
     "output_type": "execute_result"
    }
   ],
   "source": [
    "2*2"
   ]
  },
  {
   "cell_type": "code",
   "execution_count": 4,
   "id": "9eb41495",
   "metadata": {},
   "outputs": [
    {
     "data": {
      "text/plain": [
       "0"
      ]
     },
     "execution_count": 4,
     "metadata": {},
     "output_type": "execute_result"
    }
   ],
   "source": [
    "2-2"
   ]
  },
  {
   "cell_type": "markdown",
   "id": "40ae80b5",
   "metadata": {},
   "source": [
    "Exercise 8:"
   ]
  },
  {
   "cell_type": "code",
   "execution_count": 6,
   "id": "320f28c2",
   "metadata": {},
   "outputs": [
    {
     "data": {
      "text/plain": [
       "17"
      ]
     },
     "execution_count": 6,
     "metadata": {},
     "output_type": "execute_result"
    }
   ],
   "source": [
    "# This is a simple arithmetic expression to multiply then add integers\n",
    "(3*4)+5"
   ]
  },
  {
   "cell_type": "markdown",
   "id": "b02469f5",
   "metadata": {},
   "source": [
    "Exercise 9:"
   ]
  },
  {
   "cell_type": "code",
   "execution_count": 14,
   "id": "4c8b5450",
   "metadata": {},
   "outputs": [
    {
     "name": "stdout",
     "output_type": "stream",
     "text": [
      "3.33 Hours\n"
     ]
    }
   ],
   "source": [
    "# This will convert 200 minutes to hours by dividing by 60\n",
    "print(\"%.2f\"%(200/60),\"Hours\")"
   ]
  },
  {
   "cell_type": "markdown",
   "id": "d4257be6",
   "metadata": {},
   "source": [
    "Exercise 10:\n",
    "\n",
    "See below Exercise 3"
   ]
  },
  {
   "cell_type": "markdown",
   "id": "c7029f42",
   "metadata": {},
   "source": [
    "Exercise 11:\n",
    "\n",
    "## Author\n",
    "Baron Gracias"
   ]
  },
  {
   "cell_type": "markdown",
   "id": "0308bf69",
   "metadata": {},
   "source": [
    "Exercise 12:\n",
    "\n",
    "Uploaded to GitHub"
   ]
  },
  {
   "cell_type": "markdown",
   "id": "5bcce99e",
   "metadata": {},
   "source": [
    "Exercise 13:\n",
    "\n",
    "Screenshot of first page of notebook"
   ]
  }
 ],
 "metadata": {
  "kernelspec": {
   "display_name": "Python 3 (ipykernel)",
   "language": "python",
   "name": "python3"
  },
  "language_info": {
   "codemirror_mode": {
    "name": "ipython",
    "version": 3
   },
   "file_extension": ".py",
   "mimetype": "text/x-python",
   "name": "python",
   "nbconvert_exporter": "python",
   "pygments_lexer": "ipython3",
   "version": "3.10.11"
  }
 },
 "nbformat": 4,
 "nbformat_minor": 5
}
